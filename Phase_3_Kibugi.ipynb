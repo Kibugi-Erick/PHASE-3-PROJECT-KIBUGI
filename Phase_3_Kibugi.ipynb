{
 "cells": [
  {
   "cell_type": "markdown",
   "id": "07bcde17",
   "metadata": {},
   "source": [
    "## PHASE 3 PROJECT"
   ]
  },
  {
   "cell_type": "markdown",
   "id": "51433487",
   "metadata": {},
   "source": [
    "# Predicting Customer Churn for SyriaTel Telecommunications"
   ]
  },
  {
   "cell_type": "markdown",
   "id": "074f2cce",
   "metadata": {},
   "source": [
    "# BUSINESS PROBLEM \n",
    "\n",
    "Stakeholder:\n",
    "The Marketing and Customer Retention Team at SyriaTel, a leading telecommunications provider in the region.\n",
    "\n",
    "Problem Statement:\n",
    "Customer churn— when users stop doing business with SyriaTel— is costly. Acquiring new customers is significantly more expensive than retaining existing ones. The marketing and customer service teams need a reliable way to predict churn before it happens, so they can proactively engage at-risk customers with retention offers or personalized support."
   ]
  },
  {
   "cell_type": "markdown",
   "id": "a09e2395",
   "metadata": {},
   "source": [
    "Key business question:\n",
    "~ Can we identify customers who are likely to churn soon using historical usage and customer service data?"
   ]
  },
  {
   "cell_type": "markdown",
   "id": "4e5656ab",
   "metadata": {},
   "source": [
    "# Exploratory Data Analysis"
   ]
  },
  {
   "cell_type": "code",
   "execution_count": 1,
   "id": "90a1809b",
   "metadata": {},
   "outputs": [
    {
     "name": "stdout",
     "output_type": "stream",
     "text": [
      "<class 'pandas.core.frame.DataFrame'>\n",
      "RangeIndex: 3333 entries, 0 to 3332\n",
      "Data columns (total 21 columns):\n",
      " #   Column                  Non-Null Count  Dtype  \n",
      "---  ------                  --------------  -----  \n",
      " 0   state                   3333 non-null   object \n",
      " 1   account length          3333 non-null   int64  \n",
      " 2   area code               3333 non-null   int64  \n",
      " 3   phone number            3333 non-null   object \n",
      " 4   international plan      3333 non-null   object \n",
      " 5   voice mail plan         3333 non-null   object \n",
      " 6   number vmail messages   3333 non-null   int64  \n",
      " 7   total day minutes       3333 non-null   float64\n",
      " 8   total day calls         3333 non-null   int64  \n",
      " 9   total day charge        3333 non-null   float64\n",
      " 10  total eve minutes       3333 non-null   float64\n",
      " 11  total eve calls         3333 non-null   int64  \n",
      " 12  total eve charge        3333 non-null   float64\n",
      " 13  total night minutes     3333 non-null   float64\n",
      " 14  total night calls       3333 non-null   int64  \n",
      " 15  total night charge      3333 non-null   float64\n",
      " 16  total intl minutes      3333 non-null   float64\n",
      " 17  total intl calls        3333 non-null   int64  \n",
      " 18  total intl charge       3333 non-null   float64\n",
      " 19  customer service calls  3333 non-null   int64  \n",
      " 20  churn                   3333 non-null   bool   \n",
      "dtypes: bool(1), float64(8), int64(8), object(4)\n",
      "memory usage: 524.2+ KB\n"
     ]
    },
    {
     "data": {
      "text/plain": [
       "(None,\n",
       "   state  account length  area code phone number international plan  \\\n",
       " 0    KS             128        415     382-4657                 no   \n",
       " 1    OH             107        415     371-7191                 no   \n",
       " 2    NJ             137        415     358-1921                 no   \n",
       " 3    OH              84        408     375-9999                yes   \n",
       " 4    OK              75        415     330-6626                yes   \n",
       " \n",
       "   voice mail plan  number vmail messages  total day minutes  total day calls  \\\n",
       " 0             yes                     25              265.1              110   \n",
       " 1             yes                     26              161.6              123   \n",
       " 2              no                      0              243.4              114   \n",
       " 3              no                      0              299.4               71   \n",
       " 4              no                      0              166.7              113   \n",
       " \n",
       "    total day charge  ...  total eve calls  total eve charge  \\\n",
       " 0             45.07  ...               99             16.78   \n",
       " 1             27.47  ...              103             16.62   \n",
       " 2             41.38  ...              110             10.30   \n",
       " 3             50.90  ...               88              5.26   \n",
       " 4             28.34  ...              122             12.61   \n",
       " \n",
       "    total night minutes  total night calls  total night charge  \\\n",
       " 0                244.7                 91               11.01   \n",
       " 1                254.4                103               11.45   \n",
       " 2                162.6                104                7.32   \n",
       " 3                196.9                 89                8.86   \n",
       " 4                186.9                121                8.41   \n",
       " \n",
       "    total intl minutes  total intl calls  total intl charge  \\\n",
       " 0                10.0                 3               2.70   \n",
       " 1                13.7                 3               3.70   \n",
       " 2                12.2                 5               3.29   \n",
       " 3                 6.6                 7               1.78   \n",
       " 4                10.1                 3               2.73   \n",
       " \n",
       "    customer service calls  churn  \n",
       " 0                       1  False  \n",
       " 1                       1  False  \n",
       " 2                       0  False  \n",
       " 3                       2  False  \n",
       " 4                       3  False  \n",
       " \n",
       " [5 rows x 21 columns])"
      ]
     },
     "execution_count": 1,
     "metadata": {},
     "output_type": "execute_result"
    }
   ],
   "source": [
    "import pandas as pd\n",
    "\n",
    "# Load the uploaded CSV file\n",
    "file_path = 'bigml_59c28831336c6604c800002a.csv'\n",
    "df = pd.read_csv(file_path)\n",
    "\n",
    "df.info(), df.head()"
   ]
  },
  {
   "cell_type": "markdown",
   "id": "a1dbd98a",
   "metadata": {},
   "source": [
    "Customer profile features:\n",
    "state, account length, area code, phone number (to be dropped), international plan, voice mail plan, number vmail messages\n",
    "\n",
    "Usage features:\n",
    "total day/eve/night/intl minutes, calls, and charges\n",
    "\n",
    "Customer service:\n",
    "customer service calls\n",
    "\n",
    "Target:\n",
    "churn (boolean – whether customer churned)"
   ]
  },
  {
   "cell_type": "markdown",
   "id": "bc4efb86",
   "metadata": {},
   "source": [
    "# Data Cleaning"
   ]
  },
  {
   "cell_type": "code",
   "execution_count": 2,
   "id": "e38a7946",
   "metadata": {},
   "outputs": [],
   "source": [
    "from sklearn.model_selection import train_test_split\n",
    "from sklearn.preprocessing import LabelEncoder, StandardScaler\n",
    "from sklearn.metrics import classification_report, confusion_matrix, roc_auc_score\n",
    "from sklearn.linear_model import LogisticRegression\n",
    "from sklearn.tree import DecisionTreeClassifier\n",
    "import matplotlib.pyplot as plt\n",
    "import seaborn as sns\n",
    "\n",
    "# Drop non-informative columns\n",
    "df_model = df.drop(columns=[\"phone number\"])\n",
    "\n",
    "# Converting binary categorical features to numeric\n",
    "binary_cols = [\"international plan\", \"voice mail plan\"]\n",
    "for col in binary_cols:\n",
    "    df_model[col] = df_model[col].map({\"yes\": 1, \"no\": 0})\n",
    "\n",
    "# Encodeing target variable\n",
    "df_model[\"churn\"] = df_model[\"churn\"].astype(int)\n",
    "\n",
    "# Encode the 'state' and 'area code' categorical columns\n",
    "df_model = pd.get_dummies(df_model, columns=[\"state\", \"area code\"], drop_first=True)\n",
    "\n",
    "# Split features and target\n",
    "X = df_model.drop(columns=[\"churn\"])\n",
    "y = df_model[\"churn\"]\n",
    "\n",
    "# Train-test split\n",
    "X_train, X_test, y_train, y_test = train_test_split(X, y, test_size=0.2, random_state=42, stratify=y)\n",
    "\n",
    "# Standardize features\n",
    "scaler = StandardScaler()\n",
    "X_train_scaled = scaler.fit_transform(X_train)\n",
    "X_test_scaled = scaler.transform(X_test)\n",
    "\n"
   ]
  },
  {
   "cell_type": "markdown",
   "id": "f5efc5b1",
   "metadata": {},
   "source": [
    "# Basic model 1: LOGISTIC REGRESSION"
   ]
  },
  {
   "cell_type": "code",
   "execution_count": 3,
   "id": "5a6e2c5f",
   "metadata": {},
   "outputs": [
    {
     "name": "stdout",
     "output_type": "stream",
     "text": [
      "Logistic Regression Evaluation:\n",
      "Classification Report:\n",
      " {'0': {'precision': 0.8852988691437803, 'recall': 0.9614035087719298, 'f1-score': 0.9217830109335576, 'support': 570}, '1': {'precision': 0.5416666666666666, 'recall': 0.26804123711340205, 'f1-score': 0.35862068965517235, 'support': 97}, 'accuracy': 0.8605697151424287, 'macro avg': {'precision': 0.7134827679052235, 'recall': 0.614722372942666, 'f1-score': 0.6402018502943649, 'support': 667}, 'weighted avg': {'precision': 0.8353253704327158, 'recall': 0.8605697151424287, 'f1-score': 0.8398838427716335, 'support': 667}}\n",
      "ROC AUC Score: 0.800976668475312\n",
      "Confusion Matrix:\n",
      " [[548  22]\n",
      " [ 71  26]]\n"
     ]
    },
    {
     "data": {
      "text/plain": [
       "Text(0.5, 33.0, 'Predicted')"
      ]
     },
     "execution_count": 3,
     "metadata": {},
     "output_type": "execute_result"
    },
    {
     "data": {
      "image/png": "[encoded data removed]",
      "text/plain": [
       "<Figure size 576x432 with 2 Axes>"
      ]
     },
     "metadata": {
      "needs_background": "light"
     },
     "output_type": "display_data"
    }
   ],
   "source": [
    "log_reg = LogisticRegression(max_iter=1000, random_state=42)\n",
    "log_reg.fit(X_train_scaled, y_train)\n",
    "y_pred_lr = log_reg.predict(X_test_scaled)\n",
    "y_pred_proba_lr = log_reg.predict_proba(X_test_scaled)[:, 1]\n",
    "\n",
    "# Evaluation\n",
    "report_lr = classification_report(y_test, y_pred_lr, output_dict=True)\n",
    "roc_auc_lr = roc_auc_score(y_test, y_pred_proba_lr)\n",
    "conf_matrix_lr = confusion_matrix(y_test, y_pred_lr)\n",
    "\n",
    "print(\"Logistic Regression Evaluation:\")\n",
    "print(\"Classification Report:\\n\", report_lr)\n",
    "print(\"ROC AUC Score:\", roc_auc_lr)\n",
    "print(\"Confusion Matrix:\\n\", conf_matrix_lr)\n",
    "\n",
    "# Visualize confusion matrix for Logistic Regression\n",
    "plt.figure(figsize=(8, 6))\n",
    "sns.heatmap(conf_matrix_lr, annot=True, fmt='d', cmap='Blues', \n",
    "            xticklabels=['No Churn', 'Churn'], yticklabels=['No Churn', 'Churn'])\n",
    "plt.title('Confusion Matrix for Logistic Regression')\n",
    "plt.xlabel('Predicted')"
   ]
  },
  {
   "cell_type": "markdown",
   "id": "2206904b",
   "metadata": {},
   "source": [
    "Model interpretation: From this model we can see that for class:\n",
    "- 0: A precision score of 88.53% and a recall of 96.14% gives us a high f1-score of 92.17% which means it is working well with this dataset. However,\n",
    "- 1: A precision of 54.17% and recall of 26.80% fives us a low f1-score of 35.68% which is not anywhere close to optimum levels."
   ]
  },
  {
   "cell_type": "markdown",
   "id": "ceca3f4a",
   "metadata": {},
   "source": [
    "We therefore continue to build a second model which hopes to give us better results as our focus area us the churners (1)"
   ]
  },
  {
   "cell_type": "markdown",
   "id": "ab29a5d5",
   "metadata": {},
   "source": [
    "# Model 2: Basic Decision Tree Classifier (untuned)"
   ]
  },
  {
   "cell_type": "code",
   "execution_count": 4,
   "metadata": {},
   "outputs": [
    {
     "name": "stdout",
     "output_type": "stream",
     "text": [
      "Decision Tree Classifier Evaluation:\n",
      "Classification Report:\n",
      " {'0': {'precision': 0.9424083769633508, 'recall': 0.9473684210526315, 'f1-score': 0.9448818897637795, 'support': 570}, '1': {'precision': 0.6808510638297872, 'recall': 0.6597938144329897, 'f1-score': 0.6701570680628272, 'support': 97}, 'accuracy': 0.9055472263868066, 'macro avg': {'precision': 0.811629720396569, 'recall': 0.8035811177428106, 'f1-score': 0.8075194789133033, 'support': 667}, 'weighted avg': {'precision': 0.9043708066875552, 'recall': 0.9055472263868066, 'f1-score': 0.9049294044489483, 'support': 667}}\n",
      "ROC AUC Score: 0.8035811177428106\n",
      "Confusion Matrix:\n",
      " [[540  30]\n",
      " [ 33  64]]\n"
     ]
    },
    {
     "data": {
      "text/plain": [
       "<AxesSubplot:>"
      ]
     },
     "execution_count": 4,
     "metadata": {},
     "output_type": "execute_result"
    },
    {
     "data": {
      "image/png": "[encoded data removed]",
      "text/plain": [
       "<Figure size 576x432 with 2 Axes>"
      ]
     },
     "metadata": {
      "needs_background": "light"
     },
     "output_type": "display_data"
    }
   ],
   "source": [
    "from sklearn.tree import DecisionTreeClassifier\n",
    "\n",
    "tree_clf = DecisionTreeClassifier(random_state=42)\n",
    "tree_clf.fit(X_train, y_train)  \n",
    "y_pred_tree = tree_clf.predict(X_test)\n",
    "y_pred_proba_tree = tree_clf.predict_proba(X_test)[:, 1]\n",
    "\n",
    "# Evaluation\n",
    "report_tree = classification_report(y_test, y_pred_tree, output_dict=True)\n",
    "roc_auc_tree = roc_auc_score(y_test, y_pred_proba_tree)\n",
    "conf_matrix_tree = confusion_matrix(y_test, y_pred_tree)\n",
    "\n",
    "print(\"Decision Tree Classifier Evaluation:\")\n",
    "print(\"Classification Report:\\n\", report_tree)\n",
    "print(\"ROC AUC Score:\", roc_auc_tree)\n",
    "print(\"Confusion Matrix:\\n\", conf_matrix_tree)\n",
    "\n",
    "# Visualize confusion matrix for Logistic Regression\n",
    "plt.figure(figsize=(8, 6))\n",
    "sns.heatmap(conf_matrix_lr, annot=True, fmt='d', cmap='Blues', \n",
    "            xticklabels=['No Churn', 'Churn'], yticklabels=['No Churn', 'Churn'])\n",
    "\n"
   ]
  },
  {
   "cell_type": "markdown",
   "id": "a2e4d8cf",
   "metadata": {},
   "source": [
    "Model interpretation: For this model we do see an improvement in both churners and non-churners.\n",
    "- 0: The f1-score has risen to 94.48%.\n",
    "- 1: The f1-score has risen to 67.16% which is better but still could to with improvement.\n",
    "\n",
    "We then build a tuned decision tree that will help us improve the model."
   ]
  },
  {
   "cell_type": "markdown",
   "id": "987d30f5",
   "metadata": {},
   "source": [
    "# Model 3: Decision Tree Classifier (tuned)"
   ]
  },
  {
   "cell_type": "code",
   "execution_count": 5,
   "id": "3859a452",
   "metadata": {},
   "outputs": [
    {
     "name": "stdout",
     "output_type": "stream",
     "text": [
      "Best Decision Tree Classifier Evaluation:\n",
      "Best Parameters: {'max_depth': 10, 'min_samples_leaf': 4, 'min_samples_split': 2}\n",
      "Classification Report:\n",
      " {'0': {'precision': 0.9457627118644067, 'recall': 0.9789473684210527, 'f1-score': 0.9620689655172415, 'support': 570}, '1': {'precision': 0.8441558441558441, 'recall': 0.6701030927835051, 'f1-score': 0.7471264367816092, 'support': 97}, 'accuracy': 0.9340329835082459, 'macro avg': {'precision': 0.8949592780101254, 'recall': 0.8245252306022789, 'f1-score': 0.8545977011494253, 'support': 667}, 'weighted avg': {'precision': 0.930986300818334, 'recall': 0.9340329835082459, 'f1-score': 0.9308104568405453, 'support': 667}}\n",
      "ROC AUC Score: 0.8177428106348346\n",
      "Confusion Matrix:\n",
      " [[558  12]\n",
      " [ 32  65]]\n"
     ]
    }
   ],
   "source": [
    "from sklearn.model_selection import GridSearchCV\n",
    "\n",
    "# Define the hyperparameter grid for tuning\n",
    "param_grid = {\n",
    "    \"max_depth\": [3, 5, 10, 15, None],\n",
    "    \"min_samples_split\": [2, 5, 10],\n",
    "    \"min_samples_leaf\": [1, 2, 4]\n",
    "}\n",
    "\n",
    "# Grid Search with cross-validation\n",
    "grid_search = GridSearchCV(\n",
    "    DecisionTreeClassifier\n",
    "    (random_state=42), \n",
    "    param_grid, cv=5, \n",
    "    scoring='f1', \n",
    "    n_jobs=-1\n",
    ")\n",
    "grid_search.fit(X_train, y_train)\n",
    "\n",
    "# Get the best estimator and evaluate\n",
    "best_tree = grid_search.best_estimator_\n",
    "y_pred_best = best_tree.predict(X_test)\n",
    "y_pred_proba_best = best_tree.predict_proba(X_test)[:, 1]\n",
    "\n",
    "# Evaluation\n",
    "report_best_tree = classification_report(y_test, y_pred_best, output_dict=True)\n",
    "roc_auc_best_tree = roc_auc_score(y_test, y_pred_proba_best)\n",
    "conf_matrix_best_tree = confusion_matrix(y_test, y_pred_best)\n",
    "\n",
    "print(\"Best Decision Tree Classifier Evaluation:\")\n",
    "print(\"Best Parameters:\", grid_search.best_params_)\n",
    "print(\"Classification Report:\\n\", report_best_tree)\n",
    "print(\"ROC AUC Score:\", roc_auc_best_tree)\n",
    "print(\"Confusion Matrix:\\n\", conf_matrix_best_tree)\n"
   ]
  },
  {
   "cell_type": "markdown",
   "id": "18c04ff0",
   "metadata": {},
   "source": [
    "Model interpretation: \n",
    "- 0: The precision has risen to 94.57%, recall to 97.89% and the f1-score to 96.21%. \n",
    "- 1: The precisoon has risen to 84.42%, recall to 67.01% and the f1 score to 74.71%. All these are positive indications of increased ccuracy."
   ]
  },
  {
   "cell_type": "markdown",
   "id": "a08368a0",
   "metadata": {},
   "source": [
    "# Obtaining the Best Model"
   ]
  },
  {
   "cell_type": "code",
   "execution_count": 6,
   "id": "8f5ff201",
   "metadata": {},
   "outputs": [
    {
     "name": "stdout",
     "output_type": "stream",
     "text": [
      "Best Params: {'max_depth': 10, 'min_samples_leaf': 4, 'min_samples_split': 2}\n",
      "Confusion Matrix:\n",
      " [[558  12]\n",
      " [ 32  65]]\n",
      "Classification Report:\n",
      "               precision    recall  f1-score   support\n",
      "\n",
      "           0       0.95      0.98      0.96       570\n",
      "           1       0.84      0.67      0.75        97\n",
      "\n",
      "    accuracy                           0.93       667\n",
      "   macro avg       0.89      0.82      0.85       667\n",
      "weighted avg       0.93      0.93      0.93       667\n",
      "\n",
      "ROC AUC: 0.8177428106348346\n"
     ]
    }
   ],
   "source": [
    "from sklearn.model_selection import GridSearchCV\n",
    "from sklearn.tree import DecisionTreeClassifier\n",
    "\n",
    "param_grid = {\n",
    "    \"max_depth\": [3, 5, 10, 15, None],\n",
    "    \"min_samples_split\": [2, 5, 10],\n",
    "    \"min_samples_leaf\": [1, 2, 4]\n",
    "}\n",
    "\n",
    "grid_search = GridSearchCV(\n",
    "    DecisionTreeClassifier(random_state=42),\n",
    "    param_grid,\n",
    "    cv=5,\n",
    "    scoring='f1',\n",
    "    n_jobs=-1\n",
    ")\n",
    "grid_search.fit(X_train, y_train)\n",
    "\n",
    "# Get best model\n",
    "best_tree = grid_search.best_estimator_\n",
    "y_pred_best = best_tree.predict(X_test)\n",
    "y_pred_proba_best = best_tree.predict_proba(X_test)[:, 1]\n",
    "\n",
    "# Evaluate\n",
    "from sklearn.metrics import classification_report, confusion_matrix, roc_auc_score\n",
    "print(\"Best Params:\", grid_search.best_params_)\n",
    "print(\"Confusion Matrix:\\n\", confusion_matrix(y_test, y_pred_best))\n",
    "print(\"Classification Report:\\n\", classification_report(y_test, y_pred_best))\n",
    "print(\"ROC AUC:\", roc_auc_score(y_test, y_pred_proba_best))\n"
   ]
  },
  {
   "cell_type": "markdown",
   "id": "7d1ca0ba",
   "metadata": {},
   "source": [
    "From this final model, we can see that in the curners category, \n",
    "- A precision of 84% means that 84/100 of them actually did churn\n",
    "- A recall of 67% means that out of all customers that did churn, the model caught 67% of them. The 33% of them who slipped through the cracks, the telecom may lose them unless they improve on their operational business model to target them.\n",
    "- A 75% F1-score means we have a strong balance between targeting the right people (precision) and catching enough of them (recall)."
   ]
  },
  {
   "cell_type": "markdown",
   "id": "49a27b58",
   "metadata": {},
   "source": [
    "With an ROC AUC of 0.8177, our model is very good at separating churners from non-churners, regardless of the decision threshold.\n",
    "Helping us decide who to prioritize for retention, especially if you rank customers by churn probability.\n",
    "\n",
    "This is may not be perfect but the high probability works in our favour."
   ]
  },
  {
   "cell_type": "markdown",
   "id": "9bc9c887",
   "metadata": {},
   "source": [
    "# Interpretation and Comparison\n",
    "Compared to the baseline logistic regression and the untuned tree, the tuned decision tree offers:\n",
    "\n",
    "Higher precision: fewer false positives in predicting churn\n",
    "\n",
    "Better recall: it catches more actual churners (67% vs. 27% in logistic regression)\n",
    "\n",
    "Balanced performance across classes — reducing business risk from false negatives (missed churners) while avoiding wasting retention efforts on loyal users\n",
    "\n",
    "This model provides actionable and interpretable insights that can guide targeted customer retention efforts."
   ]
  },
  {
   "cell_type": "markdown",
   "id": "846a4a14",
   "metadata": {},
   "source": [
    "# Business Recommendations\n",
    "1. Target High-Risk Users (Churn = 1):\n",
    "Focus on customers who resemble those flagged by the model — e.g., those with:\n",
    "- Many customer service calls\n",
    "- No voice mail or international plans\n",
    "- High usage but poor satisfaction signals\n",
    "\n",
    "2. Improve Customer Service Experience:\n",
    "A high number of service calls is a strong churn predictor. Reducing wait times or training agents to resolve issues quickly can improve retention.\n",
    "\n",
    "3. Incentive Programs:\n",
    "Provide personalized offers (e.g., loyalty bonuses, discounts, or better call packages) for customers identified as \"at risk\" by the model.\n",
    "\n",
    "4. Model Monitoring:\n",
    "Deploy the model into a live system but re-train it quarterly to capture changing churn patterns or customer behavior shifts."
   ]
  },
  {
   "cell_type": "markdown",
   "id": "256876ed",
   "metadata": {},
   "source": []
  }
 ],
 "metadata": {
  "kernelspec": {
   "display_name": "learn-env",
   "language": "python",
   "name": "python3"
  },
  "language_info": {
   "codemirror_mode": {
    "name": "ipython",
    "version": 3
   },
   "file_extension": ".py",
   "mimetype": "text/x-python",
   "name": "python",
   "nbconvert_exporter": "python",
   "pygments_lexer": "ipython3",
   "version": "3.8.5"
  }
 },
 "nbformat": 4,
 "nbformat_minor": 5
}
